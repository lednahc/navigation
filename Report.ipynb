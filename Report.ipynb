{
 "cells": [
  {
   "cell_type": "markdown",
   "metadata": {},
   "source": [
    "# Project Navigation - Report\n",
    "\n",
    "## Learning Algorithm\n",
    "\n",
    "### DQN\n",
    "\n",
    "-> DQN algorithm due to discreet actions.\n",
    "\n",
    "-> For implementation, I took help of the sample code provided by Udacity for this assignment and OpenAI baselines.\n",
    "\n",
    "-> Network - 2 layers of 64 nodes each.\n",
    "\n",
    "-> Used Adam optim with learning rate of 5e-4. \n",
    "\n",
    "-> Batch size: 64, gamma: 0.99, tau: 1e-3\n",
    "\n",
    "\n",
    "### Hyperparameters\n",
    "\n",
    "Following hyperparameters have been used to train the network:\n",
    "\n",
    "- BUFFER_SIZE = int(1e5)  # replay buffer size\n",
    "- BATCH_SIZE = 64         # minibatch size\n",
    "- GAMMA = 0.99            # discount factor\n",
    "- TAU = 1e-3              # for soft update of target parameters\n",
    "- LR = 5e-4               # learning rate \n",
    "- UPDATE_EVERY = 4        # how often to update the network\n",
    "\n",
    "\n",
    "### Network architecture\n",
    "The network consists of two hidden layers\n",
    "* First hidden layer contains 64 nodes.\n",
    "* Second hidden layer contains 64 nodes.\n",
    "* Relu activation is applied on both the layers.\n",
    "\n",
    "## Plot of Rewards\n",
    "```\n",
    "Episode 100\tAverage Score: 0.128080808080808154\n",
    "Episode 200\tAverage Score: 3.38\n",
    "Episode 300\tAverage Score: 5.26\n",
    "Episode 400\tAverage Score: 7.61\n",
    "Episode 500\tAverage Score: 7.90\n",
    "Episode 600\tAverage Score: 8.46\n",
    "Episode 700\tAverage Score: 9.95\n",
    "Episode 800\tAverage Score: 12.71\n",
    "Episode 900\tAverage Score: 12.64\n",
    "Episode 907\tAverage Score: 13.04\n",
    "Environment solved in 807 episodes!\tAverage Score: 13.04\n",
    "```\n",
    "\n",
    "\n",
    "![alt text](rewards.png \"Left\")\n",
    "\n",
    "## Ideas for future work\n",
    "Experimentation using\n",
    "* Double DQN\n",
    "* Dueling DQN\n",
    "* Prioritized replay"
   ]
  },
  {
   "cell_type": "code",
   "execution_count": null,
   "metadata": {},
   "outputs": [],
   "source": []
  }
 ],
 "metadata": {
  "anaconda-cloud": {},
  "kernelspec": {
   "display_name": "Python 3",
   "language": "python",
   "name": "python3"
  },
  "language_info": {
   "codemirror_mode": {
    "name": "ipython",
    "version": 3
   },
   "file_extension": ".py",
   "mimetype": "text/x-python",
   "name": "python",
   "nbconvert_exporter": "python",
   "pygments_lexer": "ipython3",
   "version": "3.6.4"
  }
 },
 "nbformat": 4,
 "nbformat_minor": 1
}
